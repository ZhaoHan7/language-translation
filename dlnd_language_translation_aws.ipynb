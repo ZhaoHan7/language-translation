{
 "cells": [
  {
   "cell_type": "markdown",
   "metadata": {
    "collapsed": true,
    "deletable": true,
    "editable": true
   },
   "source": [
    "# Language Translation\n",
    "In this project, you’re going to take a peek into the realm of neural network machine translation.  You’ll be training a sequence to sequence model on a dataset of English and French sentences that can translate new sentences from English to French.\n",
    "## Get the Data\n",
    "Since translating the whole language of English to French will take lots of time to train, we have provided you with a small portion of the English corpus."
   ]
  },
  {
   "cell_type": "code",
   "execution_count": 1,
   "metadata": {
    "collapsed": true,
    "deletable": true,
    "editable": true
   },
   "outputs": [],
   "source": [
    "\"\"\"\n",
    "DON'T MODIFY ANYTHING IN THIS CELL\n",
    "\"\"\"\n",
    "import helper\n",
    "import problem_unittests as tests\n",
    "\n",
    "source_path = 'data/small_vocab_en'\n",
    "target_path = 'data/small_vocab_fr'\n",
    "source_text = helper.load_data(source_path)\n",
    "target_text = helper.load_data(target_path)"
   ]
  },
  {
   "cell_type": "markdown",
   "metadata": {
    "deletable": true,
    "editable": true
   },
   "source": [
    "## Explore the Data\n",
    "Play around with view_sentence_range to view different parts of the data."
   ]
  },
  {
   "cell_type": "code",
   "execution_count": 2,
   "metadata": {
    "collapsed": false,
    "deletable": true,
    "editable": true
   },
   "outputs": [
    {
     "name": "stdout",
     "output_type": "stream",
     "text": [
      "Dataset Stats\n",
      "Roughly the number of unique words: 227\n",
      "Number of sentences: 137861\n",
      "Average number of words in a sentence: 13.225277634719028\n",
      "\n",
      "English sentences 0 to 10:\n",
      "new jersey is sometimes quiet during autumn , and it is snowy in april .\n",
      "the united states is usually chilly during july , and it is usually freezing in november .\n",
      "california is usually quiet during march , and it is usually hot in june .\n",
      "the united states is sometimes mild during june , and it is cold in september .\n",
      "your least liked fruit is the grape , but my least liked is the apple .\n",
      "his favorite fruit is the orange , but my favorite is the grape .\n",
      "paris is relaxing during december , but it is usually chilly in july .\n",
      "new jersey is busy during spring , and it is never hot in march .\n",
      "our least liked fruit is the lemon , but my least liked is the grape .\n",
      "the united states is sometimes busy during january , and it is sometimes warm in november .\n",
      "\n",
      "French sentences 0 to 10:\n",
      "new jersey est parfois calme pendant l' automne , et il est neigeux en avril .\n",
      "les états-unis est généralement froid en juillet , et il gèle habituellement en novembre .\n",
      "california est généralement calme en mars , et il est généralement chaud en juin .\n",
      "les états-unis est parfois légère en juin , et il fait froid en septembre .\n",
      "votre moins aimé fruit est le raisin , mais mon moins aimé est la pomme .\n",
      "son fruit préféré est l'orange , mais mon préféré est le raisin .\n",
      "paris est relaxant en décembre , mais il est généralement froid en juillet .\n",
      "new jersey est occupé au printemps , et il est jamais chaude en mars .\n",
      "notre fruit est moins aimé le citron , mais mon moins aimé est le raisin .\n",
      "les états-unis est parfois occupé en janvier , et il est parfois chaud en novembre .\n"
     ]
    }
   ],
   "source": [
    "view_sentence_range = (0, 10)\n",
    "\n",
    "\"\"\"\n",
    "DON'T MODIFY ANYTHING IN THIS CELL\n",
    "\"\"\"\n",
    "import numpy as np\n",
    "\n",
    "print('Dataset Stats')\n",
    "print('Roughly the number of unique words: {}'.format(len({word: None for word in source_text.split()})))\n",
    "\n",
    "sentences = source_text.split('\\n')\n",
    "word_counts = [len(sentence.split()) for sentence in sentences]\n",
    "print('Number of sentences: {}'.format(len(sentences)))\n",
    "print('Average number of words in a sentence: {}'.format(np.average(word_counts)))\n",
    "\n",
    "print()\n",
    "print('English sentences {} to {}:'.format(*view_sentence_range))\n",
    "print('\\n'.join(source_text.split('\\n')[view_sentence_range[0]:view_sentence_range[1]]))\n",
    "print()\n",
    "print('French sentences {} to {}:'.format(*view_sentence_range))\n",
    "print('\\n'.join(target_text.split('\\n')[view_sentence_range[0]:view_sentence_range[1]]))"
   ]
  },
  {
   "cell_type": "markdown",
   "metadata": {
    "deletable": true,
    "editable": true
   },
   "source": [
    "## Implement Preprocessing Function\n",
    "### Text to Word Ids\n",
    "As you did with other RNNs, you must turn the text into a number so the computer can understand it. In the function `text_to_ids()`, you'll turn `source_text` and `target_text` from words to ids.  However, you need to add the `<EOS>` word id at the end of `target_text`.  This will help the neural network predict when the sentence should end.\n",
    "\n",
    "You can get the `<EOS>` word id by doing:\n",
    "```python\n",
    "target_vocab_to_int['<EOS>']\n",
    "```\n",
    "You can get other word ids using `source_vocab_to_int` and `target_vocab_to_int`."
   ]
  },
  {
   "cell_type": "code",
   "execution_count": 3,
   "metadata": {
    "collapsed": false,
    "deletable": true,
    "editable": true
   },
   "outputs": [
    {
     "name": "stdout",
     "output_type": "stream",
     "text": [
      "Tests Passed\n"
     ]
    }
   ],
   "source": [
    "def text_to_ids(source_text, target_text, source_vocab_to_int, target_vocab_to_int):\n",
    "    \"\"\"\n",
    "    Convert source and target text to proper word ids\n",
    "    :param source_text: String that contains all the source text.\n",
    "    :param target_text: String that contains all the target text.\n",
    "    :param source_vocab_to_int: Dictionary to go from the source words to an id\n",
    "    :param target_vocab_to_int: Dictionary to go from the target words to an id\n",
    "    :return: A tuple of lists (source_id_text, target_id_text)\n",
    "    \"\"\"\n",
    "    # TODO: Implement Function\n",
    "    \n",
    "    source_sentences = source_text.split('\\n')\n",
    "    target_sentences = target_text.split('\\n')\n",
    "    \n",
    "        \n",
    "    source_id_text = [[source_vocab_to_int[vocab] for vocab in sentence.split()] for sentence in source_sentences]\n",
    "    target_id_text = [[target_vocab_to_int[vocab] for vocab in sentence.split()] + [target_vocab_to_int['<EOS>']] \n",
    "                      for sentence in target_sentences]\n",
    "    return source_id_text, target_id_text\n",
    "\n",
    "\"\"\"\n",
    "DON'T MODIFY ANYTHING IN THIS CELL THAT IS BELOW THIS LINE\n",
    "\"\"\"\n",
    "tests.test_text_to_ids(text_to_ids)"
   ]
  },
  {
   "cell_type": "markdown",
   "metadata": {
    "deletable": true,
    "editable": true
   },
   "source": [
    "### Preprocess all the data and save it\n",
    "Running the code cell below will preprocess all the data and save it to file."
   ]
  },
  {
   "cell_type": "code",
   "execution_count": 4,
   "metadata": {
    "collapsed": true,
    "deletable": true,
    "editable": true
   },
   "outputs": [],
   "source": [
    "\"\"\"\n",
    "DON'T MODIFY ANYTHING IN THIS CELL\n",
    "\"\"\"\n",
    "helper.preprocess_and_save_data(source_path, target_path, text_to_ids)"
   ]
  },
  {
   "cell_type": "markdown",
   "metadata": {
    "deletable": true,
    "editable": true
   },
   "source": [
    "# Check Point\n",
    "This is your first checkpoint. If you ever decide to come back to this notebook or have to restart the notebook, you can start from here. The preprocessed data has been saved to disk."
   ]
  },
  {
   "cell_type": "code",
   "execution_count": 5,
   "metadata": {
    "collapsed": true,
    "deletable": true,
    "editable": true
   },
   "outputs": [],
   "source": [
    "\"\"\"\n",
    "DON'T MODIFY ANYTHING IN THIS CELL\n",
    "\"\"\"\n",
    "import numpy as np\n",
    "import helper\n",
    "import problem_unittests as tests\n",
    "\n",
    "(source_int_text, target_int_text), (source_vocab_to_int, target_vocab_to_int), _ = helper.load_preprocess()"
   ]
  },
  {
   "cell_type": "markdown",
   "metadata": {
    "deletable": true,
    "editable": true
   },
   "source": [
    "### Check the Version of TensorFlow and Access to GPU\n",
    "This will check to make sure you have the correct version of TensorFlow and access to a GPU"
   ]
  },
  {
   "cell_type": "code",
   "execution_count": 6,
   "metadata": {
    "collapsed": false,
    "deletable": true,
    "editable": true
   },
   "outputs": [
    {
     "name": "stdout",
     "output_type": "stream",
     "text": [
      "TensorFlow Version: 1.1.0\n",
      "Default GPU Device: /gpu:0\n"
     ]
    }
   ],
   "source": [
    "\"\"\"\n",
    "DON'T MODIFY ANYTHING IN THIS CELL\n",
    "\"\"\"\n",
    "from distutils.version import LooseVersion\n",
    "import warnings\n",
    "import tensorflow as tf\n",
    "from tensorflow.python.layers.core import Dense\n",
    "\n",
    "# Check TensorFlow Version\n",
    "assert LooseVersion(tf.__version__) >= LooseVersion('1.1'), 'Please use TensorFlow version 1.1 or newer'\n",
    "print('TensorFlow Version: {}'.format(tf.__version__))\n",
    "\n",
    "# Check for a GPU\n",
    "if not tf.test.gpu_device_name():\n",
    "    warnings.warn('No GPU found. Please use a GPU to train your neural network.')\n",
    "else:\n",
    "    print('Default GPU Device: {}'.format(tf.test.gpu_device_name()))"
   ]
  },
  {
   "cell_type": "markdown",
   "metadata": {
    "deletable": true,
    "editable": true
   },
   "source": [
    "## Build the Neural Network\n",
    "You'll build the components necessary to build a Sequence-to-Sequence model by implementing the following functions below:\n",
    "- `model_inputs`\n",
    "- `process_decoder_input`\n",
    "- `encoding_layer`\n",
    "- `decoding_layer_train`\n",
    "- `decoding_layer_infer`\n",
    "- `decoding_layer`\n",
    "- `seq2seq_model`\n",
    "\n",
    "### Input\n",
    "Implement the `model_inputs()` function to create TF Placeholders for the Neural Network. It should create the following placeholders:\n",
    "\n",
    "- Input text placeholder named \"input\" using the TF Placeholder name parameter with rank 2.\n",
    "- Targets placeholder with rank 2.\n",
    "- Learning rate placeholder with rank 0.\n",
    "- Keep probability placeholder named \"keep_prob\" using the TF Placeholder name parameter with rank 0.\n",
    "- Target sequence length placeholder named \"target_sequence_length\" with rank 1\n",
    "- Max target sequence length tensor named \"max_target_len\" getting its value from applying tf.reduce_max on the target_sequence_length placeholder. Rank 0.\n",
    "- Source sequence length placeholder named \"source_sequence_length\" with rank 1\n",
    "\n",
    "Return the placeholders in the following the tuple (input, targets, learning rate, keep probability, target sequence length, max target sequence length, source sequence length)"
   ]
  },
  {
   "cell_type": "code",
   "execution_count": 7,
   "metadata": {
    "collapsed": false,
    "deletable": true,
    "editable": true
   },
   "outputs": [
    {
     "name": "stdout",
     "output_type": "stream",
     "text": [
      "Tests Passed\n"
     ]
    }
   ],
   "source": [
    "def model_inputs():\n",
    "    \"\"\"\n",
    "    Create TF Placeholders for input, targets, learning rate, and lengths of source and target sequences.\n",
    "    :return: Tuple (input, targets, learning rate, keep probability, target sequence length,\n",
    "    max target sequence length, source sequence length)\n",
    "    \"\"\"\n",
    "    # TODO: Implement Function\n",
    "    input_ = tf.placeholder(tf.int32, shape=[None, None], name='input')\n",
    "    targets = tf.placeholder(tf.int32, shape=[None, None])\n",
    "    lr = tf.placeholder(tf.float32)\n",
    "    keep_prob = tf.placeholder(tf.float32, name='keep_prob')\n",
    "    target_sequence_length = tf.placeholder(tf.int32, shape=[None,], name='target_sequence_length')\n",
    "    max_target_len = tf.reduce_max(target_sequence_length, name='max_target_len')\n",
    "    source_sequence_length = tf.placeholder(tf.int32, shape=[None,], name='source_sequence_length')\n",
    "    return input_, targets, lr, keep_prob, target_sequence_length, max_target_len, source_sequence_length\n",
    "\n",
    "\n",
    "\"\"\"\n",
    "DON'T MODIFY ANYTHING IN THIS CELL THAT IS BELOW THIS LINE\n",
    "\"\"\"\n",
    "tests.test_model_inputs(model_inputs)"
   ]
  },
  {
   "cell_type": "markdown",
   "metadata": {
    "deletable": true,
    "editable": true
   },
   "source": [
    "### Process Decoder Input\n",
    "Implement `process_decoder_input` by removing the last word id from each batch in `target_data` and concat the GO ID to the begining of each batch."
   ]
  },
  {
   "cell_type": "code",
   "execution_count": 8,
   "metadata": {
    "collapsed": false,
    "deletable": true,
    "editable": true
   },
   "outputs": [
    {
     "name": "stdout",
     "output_type": "stream",
     "text": [
      "Tests Passed\n"
     ]
    }
   ],
   "source": [
    "def process_decoder_input(target_data, target_vocab_to_int, batch_size):\n",
    "    \"\"\"\n",
    "    Preprocess target data for encoding\n",
    "    :param target_data: Target Placehoder\n",
    "    :param target_vocab_to_int: Dictionary to go from the target words to an id\n",
    "    :param batch_size: Batch Size\n",
    "    :return: Preprocessed target data\n",
    "    \"\"\"\n",
    "    # TODO: Implement Function\n",
    "    ending = tf.strided_slice(target_data, [0,0], [batch_size, -1], [1,1])\n",
    "    processed_data = tf.concat([tf.fill([batch_size, 1], target_vocab_to_int['<GO>']), ending], 1)\n",
    "    return processed_data\n",
    "\n",
    "\"\"\"\n",
    "DON'T MODIFY ANYTHING IN THIS CELL THAT IS BELOW THIS LINE\n",
    "\"\"\"\n",
    "tests.test_process_encoding_input(process_decoder_input)"
   ]
  },
  {
   "cell_type": "markdown",
   "metadata": {
    "deletable": true,
    "editable": true
   },
   "source": [
    "### Encoding\n",
    "Implement `encoding_layer()` to create a Encoder RNN layer:\n",
    " * Embed the encoder input using [`tf.contrib.layers.embed_sequence`](https://www.tensorflow.org/api_docs/python/tf/contrib/layers/embed_sequence)\n",
    " * Construct a [stacked](https://github.com/tensorflow/tensorflow/blob/6947f65a374ebf29e74bb71e36fd82760056d82c/tensorflow/docs_src/tutorials/recurrent.md#stacking-multiple-lstms) [`tf.contrib.rnn.LSTMCell`](https://www.tensorflow.org/api_docs/python/tf/contrib/rnn/LSTMCell) wrapped in a [`tf.contrib.rnn.DropoutWrapper`](https://www.tensorflow.org/api_docs/python/tf/contrib/rnn/DropoutWrapper)\n",
    " * Pass cell and embedded input to [`tf.nn.dynamic_rnn()`](https://www.tensorflow.org/api_docs/python/tf/nn/dynamic_rnn)"
   ]
  },
  {
   "cell_type": "code",
   "execution_count": 9,
   "metadata": {
    "collapsed": false,
    "deletable": true,
    "editable": true,
    "scrolled": false
   },
   "outputs": [
    {
     "name": "stdout",
     "output_type": "stream",
     "text": [
      "Tests Passed\n"
     ]
    }
   ],
   "source": [
    "from imp import reload\n",
    "reload(tests)\n",
    "\n",
    "# def make_cell(rnn_size):\n",
    "#     enc_cell = tf.contrib.rnn.LSTMCell(rnn_size, initializer=tf.random_uniform_initializer(-0.1, 0.1, seed=2))\n",
    "#     return enc_cell\n",
    "def build_cell(lstm_size, keep_prob):\n",
    "    # Use a basic LSTM cell\n",
    "    lstm = tf.contrib.rnn.BasicLSTMCell(lstm_size)\n",
    "        \n",
    "    # Add dropout to the cell\n",
    "    drop = tf.contrib.rnn.DropoutWrapper(lstm, output_keep_prob=keep_prob)\n",
    "    return drop\n",
    "    \n",
    "    \n",
    "    # Stack up multiple LSTM layers, for deep learning\n",
    "    cell = tf.contrib.rnn.MultiRNNCell([build_cell(lstm_size, keep_prob) for _ in range(num_layers)])\n",
    "def encoding_layer(rnn_inputs, rnn_size, num_layers, keep_prob, \n",
    "                   source_sequence_length, source_vocab_size, \n",
    "                   encoding_embedding_size):\n",
    "    \"\"\"\n",
    "    Create encoding layer\n",
    "    :param rnn_inputs: Inputs for the RNN\n",
    "    :param rnn_size: RNN Size\n",
    "    :param num_layers: Number of layers\n",
    "    :param keep_prob: Dropout keep probability\n",
    "    :param source_sequence_length: a list of the lengths of each sequence in the batch\n",
    "    :param source_vocab_size: vocabulary size of source data\n",
    "    :param encoding_embedding_size: embedding size of source data\n",
    "    :return: tuple (RNN output, RNN state)\n",
    "    \"\"\"\n",
    "    # TODO: Implement Function\n",
    "    \n",
    "    embed_input = tf.contrib.layers.embed_sequence(ids=rnn_inputs, embed_dim=encoding_embedding_size, \n",
    "                                            vocab_size=source_vocab_size)\n",
    "    cell = tf.contrib.rnn.LSTMCell(rnn_size, initializer=tf.random_uniform_initializer(-0.1, 0.1))\n",
    "    \n",
    "    cell = tf.contrib.rnn.DropoutWrapper(cell, output_keep_prob=keep_prob)\n",
    "    stacked_cell  =tf.contrib.rnn.MultiRNNCell([build_cell(rnn_size, keep_prob) for _ in range(num_layers)])\n",
    "    output, state = tf.nn.dynamic_rnn(stacked_cell, inputs=embed_input, dtype=tf.float32, \n",
    "                                      sequence_length=source_sequence_length)\n",
    "    \n",
    "    return output, state\n",
    "\n",
    "\n",
    "\n",
    "\n",
    "\"\"\"\n",
    "DON'T MODIFY ANYTHING IN THIS CELL THAT IS BELOW THIS LINE\n",
    "\"\"\"\n",
    "tests.test_encoding_layer(encoding_layer)"
   ]
  },
  {
   "cell_type": "markdown",
   "metadata": {
    "deletable": true,
    "editable": true
   },
   "source": [
    "### Decoding - Training\n",
    "Create a training decoding layer:\n",
    "* Create a [`tf.contrib.seq2seq.TrainingHelper`](https://www.tensorflow.org/api_docs/python/tf/contrib/seq2seq/TrainingHelper) \n",
    "* Create a [`tf.contrib.seq2seq.BasicDecoder`](https://www.tensorflow.org/api_docs/python/tf/contrib/seq2seq/BasicDecoder)\n",
    "* Obtain the decoder outputs from [`tf.contrib.seq2seq.dynamic_decode`](https://www.tensorflow.org/api_docs/python/tf/contrib/seq2seq/dynamic_decode)"
   ]
  },
  {
   "cell_type": "code",
   "execution_count": 10,
   "metadata": {
    "collapsed": false,
    "deletable": true,
    "editable": true
   },
   "outputs": [
    {
     "name": "stdout",
     "output_type": "stream",
     "text": [
      "Tests Passed\n"
     ]
    }
   ],
   "source": [
    "\n",
    "def decoding_layer_train(encoder_state, dec_cell, dec_embed_input, \n",
    "                         target_sequence_length, max_summary_length, \n",
    "                         output_layer, keep_prob):\n",
    "    \"\"\"\n",
    "    Create a decoding layer for training\n",
    "    :param encoder_state: Encoder State\n",
    "    :param dec_cell: Decoder RNN Cell\n",
    "    :param dec_embed_input: Decoder embedded input\n",
    "    :param target_sequence_length: The lengths of each sequence in the target batch\n",
    "    :param max_summary_length: The length of the longest sequence in the batch\n",
    "    :param output_layer: Function to apply the output layer\n",
    "    :param keep_prob: Dropout keep probability\n",
    "    :return: BasicDecoderOutput containing training logits and sample_id\n",
    "    \"\"\"\n",
    "    # TODO: Implement Function\n",
    "    training_helper = tf.contrib.seq2seq.TrainingHelper(inputs=dec_embed_input,\n",
    "                                                            sequence_length=target_sequence_length)\n",
    "    training_decoder = tf.contrib.seq2seq.BasicDecoder(dec_cell,\n",
    "                                                           training_helper,\n",
    "                                                           encoder_state,\n",
    "                                                           output_layer)\n",
    "    training_decoder_output, final_state = tf.contrib.seq2seq.dynamic_decode(training_decoder,\n",
    "                                                 impute_finished=True,\n",
    "                                                maximum_iterations=max_summary_length)\n",
    "    \n",
    "    return training_decoder_output\n",
    "\n",
    "\n",
    "\n",
    "\"\"\"\n",
    "DON'T MODIFY ANYTHING IN THIS CELL THAT IS BELOW THIS LINE\n",
    "\"\"\"\n",
    "tests.test_decoding_layer_train(decoding_layer_train)"
   ]
  },
  {
   "cell_type": "markdown",
   "metadata": {
    "deletable": true,
    "editable": true
   },
   "source": [
    "### Decoding - Inference\n",
    "Create inference decoder:\n",
    "* Create a [`tf.contrib.seq2seq.GreedyEmbeddingHelper`](https://www.tensorflow.org/api_docs/python/tf/contrib/seq2seq/GreedyEmbeddingHelper)\n",
    "* Create a [`tf.contrib.seq2seq.BasicDecoder`](https://www.tensorflow.org/api_docs/python/tf/contrib/seq2seq/BasicDecoder)\n",
    "* Obtain the decoder outputs from [`tf.contrib.seq2seq.dynamic_decode`](https://www.tensorflow.org/api_docs/python/tf/contrib/seq2seq/dynamic_decode)"
   ]
  },
  {
   "cell_type": "code",
   "execution_count": 11,
   "metadata": {
    "collapsed": false,
    "deletable": true,
    "editable": true,
    "scrolled": true
   },
   "outputs": [
    {
     "name": "stdout",
     "output_type": "stream",
     "text": [
      "Tests Passed\n"
     ]
    }
   ],
   "source": [
    "def decoding_layer_infer(encoder_state, dec_cell, dec_embeddings, start_of_sequence_id,\n",
    "                         end_of_sequence_id, max_target_sequence_length,\n",
    "                         vocab_size, output_layer, batch_size, keep_prob):\n",
    "    \"\"\"\n",
    "    Create a decoding layer for inference\n",
    "    :param encoder_state: Encoder state\n",
    "    :param dec_cell: Decoder RNN Cell\n",
    "    :param dec_embeddings: Decoder embeddings\n",
    "    :param start_of_sequence_id: GO ID\n",
    "    :param end_of_sequence_id: EOS Id\n",
    "    :param max_target_sequence_length: Maximum length of target sequences\n",
    "    :param vocab_size: Size of decoder/target vocabulary\n",
    "    :param decoding_scope: TenorFlow Variable Scope for decoding\n",
    "    :param output_layer: Function to apply the output layer\n",
    "    :param batch_size: Batch size\n",
    "    :param keep_prob: Dropout keep probability\n",
    "    :return: BasicDecoderOutput containing inference logits and sample_id\n",
    "    \"\"\"\n",
    "    # TODO: Implement Function\n",
    "    start_tokens = tf.tile(tf.constant([start_of_sequence_id], dtype=tf.int32), [batch_size], name='start_tokens')\n",
    "    inference_helper = tf.contrib.seq2seq.GreedyEmbeddingHelper(dec_embeddings, start_tokens,end_of_sequence_id)\n",
    "    inference_decoder = tf.contrib.seq2seq.BasicDecoder(dec_cell, inference_helper, encoder_state,output_layer)\n",
    "    inference_decoder_output, final_state = tf.contrib.seq2seq.dynamic_decode(\n",
    "        inference_decoder, impute_finished=True, maximum_iterations=max_target_sequence_length)\n",
    "    \n",
    "    return inference_decoder_output\n",
    "\n",
    "\n",
    "\n",
    "\"\"\"\n",
    "DON'T MODIFY ANYTHING IN THIS CELL THAT IS BELOW THIS LINE\n",
    "\"\"\"\n",
    "tests.test_decoding_layer_infer(decoding_layer_infer)"
   ]
  },
  {
   "cell_type": "markdown",
   "metadata": {
    "deletable": true,
    "editable": true
   },
   "source": [
    "### Build the Decoding Layer\n",
    "Implement `decoding_layer()` to create a Decoder RNN layer.\n",
    "\n",
    "* Embed the target sequences\n",
    "* Construct the decoder LSTM cell (just like you constructed the encoder cell above)\n",
    "* Create an output layer to map the outputs of the decoder to the elements of our vocabulary\n",
    "* Use the your `decoding_layer_train(encoder_state, dec_cell, dec_embed_input, target_sequence_length, max_target_sequence_length, output_layer, keep_prob)` function to get the training logits.\n",
    "* Use your `decoding_layer_infer(encoder_state, dec_cell, dec_embeddings, start_of_sequence_id, end_of_sequence_id, max_target_sequence_length, vocab_size, output_layer, batch_size, keep_prob)` function to get the inference logits.\n",
    "\n",
    "Note: You'll need to use [tf.variable_scope](https://www.tensorflow.org/api_docs/python/tf/variable_scope) to share variables between training and inference."
   ]
  },
  {
   "cell_type": "code",
   "execution_count": 12,
   "metadata": {
    "collapsed": false,
    "deletable": true,
    "editable": true
   },
   "outputs": [
    {
     "name": "stdout",
     "output_type": "stream",
     "text": [
      "Tests Passed\n"
     ]
    }
   ],
   "source": [
    "def decoding_layer(dec_input, encoder_state,\n",
    "                   target_sequence_length, max_target_sequence_length,\n",
    "                   rnn_size,\n",
    "                   num_layers, target_vocab_to_int, target_vocab_size,\n",
    "                   batch_size, keep_prob, decoding_embedding_size):\n",
    "    \"\"\"\n",
    "    Create decoding layer\n",
    "    :param dec_input: Decoder input\n",
    "    :param encoder_state: Encoder state\n",
    "    :param target_sequence_length: The lengths of each sequence in the target batch\n",
    "    :param max_target_sequence_length: Maximum length of target sequences\n",
    "    :param rnn_size: RNN Size\n",
    "    :param num_layers: Number of layers\n",
    "    :param target_vocab_to_int: Dictionary to go from the target words to an id\n",
    "    :param target_vocab_size: Size of target vocabulary\n",
    "    :param batch_size: The size of the batch\n",
    "    :param keep_prob: Dropout keep probability\n",
    "    :param decoding_embedding_size: Decoding embedding size\n",
    "    :return: Tuple of (Training BasicDecoderOutput, Inference BasicDecoderOutput)\n",
    "    \"\"\"\n",
    "    # TODO: Implement Function\n",
    "    dec_embeddings = tf.Variable(tf.random_uniform([target_vocab_size, decoding_embedding_size]))\n",
    "    dec_embed_input = tf.nn.embedding_lookup(dec_embeddings, dec_input)\n",
    "\n",
    "    def make_cell(rnn_size):\n",
    "        dec_cell = tf.contrib.rnn.LSTMCell(rnn_size,\n",
    "                                           initializer=tf.random_uniform_initializer(-0.1, 0.1, seed=2))\n",
    "        return tf.contrib.rnn.DropoutWrapper(dec_cell, keep_prob)\n",
    "\n",
    "        return dec_cell\n",
    "\n",
    "    dec_cell = tf.contrib.rnn.MultiRNNCell([make_cell(rnn_size) for _ in range(num_layers)])\n",
    "\n",
    "    start_of_sequence_id = target_vocab_to_int['<GO>']\n",
    "    end_of_sequence_id = target_vocab_to_int['<EOS>']\n",
    "\n",
    "    output_layer = Dense(target_vocab_size,\n",
    "                         kernel_initializer = tf.truncated_normal_initializer(mean = 0.0, stddev=0.1))\n",
    "\n",
    "    with tf.variable_scope(\"decode\") as decoding_scope:\n",
    "        train_logits = decoding_layer_train(encoder_state, dec_cell, dec_embed_input,\n",
    "                                            target_sequence_length,max_target_sequence_length, output_layer, \n",
    "                                            keep_prob)\n",
    "        decoding_scope.reuse_variables()\n",
    "        infer_logits = decoding_layer_infer(encoder_state, dec_cell, dec_embeddings, \n",
    "                                            start_of_sequence_id,end_of_sequence_id, \n",
    "                                            max_target_sequence_length, target_vocab_size,output_layer,\n",
    "                                            batch_size, keep_prob)\n",
    "              \n",
    "    return train_logits, infer_logits\n",
    "\n",
    "\n",
    "\n",
    "\"\"\"\n",
    "DON'T MODIFY ANYTHING IN THIS CELL THAT IS BELOW THIS LINE\n",
    "\"\"\"\n",
    "tests.test_decoding_layer(decoding_layer)"
   ]
  },
  {
   "cell_type": "markdown",
   "metadata": {
    "deletable": true,
    "editable": true
   },
   "source": [
    "### Build the Neural Network\n",
    "Apply the functions you implemented above to:\n",
    "\n",
    "- Encode the input using your `encoding_layer(rnn_inputs, rnn_size, num_layers, keep_prob,  source_sequence_length, source_vocab_size, encoding_embedding_size)`.\n",
    "- Process target data using your `process_decoder_input(target_data, target_vocab_to_int, batch_size)` function.\n",
    "- Decode the encoded input using your `decoding_layer(dec_input, enc_state, target_sequence_length, max_target_sentence_length, rnn_size, num_layers, target_vocab_to_int, target_vocab_size, batch_size, keep_prob, dec_embedding_size)` function."
   ]
  },
  {
   "cell_type": "code",
   "execution_count": 13,
   "metadata": {
    "collapsed": false,
    "deletable": true,
    "editable": true
   },
   "outputs": [
    {
     "name": "stdout",
     "output_type": "stream",
     "text": [
      "Tests Passed\n"
     ]
    }
   ],
   "source": [
    "def seq2seq_model(input_data, target_data, keep_prob, batch_size,\n",
    "                  source_sequence_length, target_sequence_length,\n",
    "                  max_target_sentence_length,\n",
    "                  source_vocab_size, target_vocab_size,\n",
    "                  enc_embedding_size, dec_embedding_size,\n",
    "                  rnn_size, num_layers, target_vocab_to_int):\n",
    "    \"\"\"\n",
    "    Build the Sequence-to-Sequence part of the neural network\n",
    "    :param input_data: Input placeholder\n",
    "    :param target_data: Target placeholder\n",
    "    :param keep_prob: Dropout keep probability placeholder\n",
    "    :param batch_size: Batch Size\n",
    "    :param source_sequence_length: Sequence Lengths of source sequences in the batch\n",
    "    :param target_sequence_length: Sequence Lengths of target sequences in the batch\n",
    "    :param source_vocab_size: Source vocabulary size\n",
    "    :param target_vocab_size: Target vocabulary size\n",
    "    :param enc_embedding_size: Decoder embedding size\n",
    "    :param dec_embedding_size: Encoder embedding size\n",
    "    :param rnn_size: RNN Size\n",
    "    :param num_layers: Number of layers\n",
    "    :param target_vocab_to_int: Dictionary to go from the target words to an id\n",
    "    :return: Tuple of (Training BasicDecoderOutput, Inference BasicDecoderOutput)\n",
    "    \"\"\"\n",
    "    # TODO: Implement Function\n",
    "    output, state = encoding_layer(input_data, rnn_size, num_layers, keep_prob, \n",
    "                                   source_sequence_length, source_vocab_size, enc_embedding_size)\n",
    "    \n",
    "    processed_input = process_decoder_input(target_data, target_vocab_to_int, batch_size)\n",
    "    \n",
    "    training_decoder_output, inference_decoder_output = decoding_layer(\n",
    "        processed_input, state, target_sequence_length, max_target_sentence_length,rnn_size, num_layers, \n",
    "        target_vocab_to_int, target_vocab_size, batch_size, keep_prob, dec_embedding_size)\n",
    "    \n",
    "    return training_decoder_output, inference_decoder_output\n",
    "\n",
    "\n",
    "\"\"\"\n",
    "DON'T MODIFY ANYTHING IN THIS CELL THAT IS BELOW THIS LINE\n",
    "\"\"\"\n",
    "tests.test_seq2seq_model(seq2seq_model)"
   ]
  },
  {
   "cell_type": "markdown",
   "metadata": {
    "deletable": true,
    "editable": true
   },
   "source": [
    "## Neural Network Training\n",
    "### Hyperparameters\n",
    "Tune the following parameters:\n",
    "\n",
    "- Set `epochs` to the number of epochs.\n",
    "- Set `batch_size` to the batch size.\n",
    "- Set `rnn_size` to the size of the RNNs.\n",
    "- Set `num_layers` to the number of layers.\n",
    "- Set `encoding_embedding_size` to the size of the embedding for the encoder.\n",
    "- Set `decoding_embedding_size` to the size of the embedding for the decoder.\n",
    "- Set `learning_rate` to the learning rate.\n",
    "- Set `keep_probability` to the Dropout keep probability\n",
    "- Set `display_step` to state how many steps between each debug output statement"
   ]
  },
  {
   "cell_type": "code",
   "execution_count": 16,
   "metadata": {
    "collapsed": true,
    "deletable": true,
    "editable": true
   },
   "outputs": [],
   "source": [
    "# Number of Epochs\n",
    "epochs = 10\n",
    "# Batch Size\n",
    "batch_size = 256\n",
    "# RNN Size\n",
    "rnn_size = 256\n",
    "# Number of Layers\n",
    "num_layers = 2\n",
    "# Embedding Size\n",
    "encoding_embedding_size = 128\n",
    "decoding_embedding_size = 128\n",
    "# Learning Rate\n",
    "learning_rate = 0.001\n",
    "# Dropout Keep Probability\n",
    "keep_probability = 0.8\n",
    "display_step = 20"
   ]
  },
  {
   "cell_type": "markdown",
   "metadata": {
    "deletable": true,
    "editable": true
   },
   "source": [
    "### Build the Graph\n",
    "Build the graph using the neural network you implemented."
   ]
  },
  {
   "cell_type": "code",
   "execution_count": 17,
   "metadata": {
    "collapsed": true,
    "deletable": true,
    "editable": true
   },
   "outputs": [],
   "source": [
    "\"\"\"\n",
    "DON'T MODIFY ANYTHING IN THIS CELL\n",
    "\"\"\"\n",
    "save_path = 'checkpoints/dev'\n",
    "(source_int_text, target_int_text), (source_vocab_to_int, target_vocab_to_int), _ = helper.load_preprocess()\n",
    "max_target_sentence_length = max([len(sentence) for sentence in source_int_text])\n",
    "\n",
    "train_graph = tf.Graph()\n",
    "with train_graph.as_default():\n",
    "    input_data, targets, lr, keep_prob, target_sequence_length, max_target_sequence_length, source_sequence_length = model_inputs()\n",
    "\n",
    "    #sequence_length = tf.placeholder_with_default(max_target_sentence_length, None, name='sequence_length')\n",
    "    input_shape = tf.shape(input_data)\n",
    "\n",
    "    train_logits, inference_logits = seq2seq_model(tf.reverse(input_data, [-1]),\n",
    "                                                   targets,\n",
    "                                                   keep_prob,\n",
    "                                                   batch_size,\n",
    "                                                   source_sequence_length,\n",
    "                                                   target_sequence_length,\n",
    "                                                   max_target_sequence_length,\n",
    "                                                   len(source_vocab_to_int),\n",
    "                                                   len(target_vocab_to_int),\n",
    "                                                   encoding_embedding_size,\n",
    "                                                   decoding_embedding_size,\n",
    "                                                   rnn_size,\n",
    "                                                   num_layers,\n",
    "                                                   target_vocab_to_int)\n",
    "\n",
    "\n",
    "    training_logits = tf.identity(train_logits.rnn_output, name='logits')\n",
    "    inference_logits = tf.identity(inference_logits.sample_id, name='predictions')\n",
    "\n",
    "    masks = tf.sequence_mask(target_sequence_length, max_target_sequence_length, dtype=tf.float32, name='masks')\n",
    "\n",
    "    with tf.name_scope(\"optimization\"):\n",
    "        # Loss function\n",
    "        cost = tf.contrib.seq2seq.sequence_loss(\n",
    "            training_logits,\n",
    "            targets,\n",
    "            masks)\n",
    "\n",
    "        # Optimizer\n",
    "        optimizer = tf.train.AdamOptimizer(lr)\n",
    "\n",
    "        # Gradient Clipping\n",
    "        gradients = optimizer.compute_gradients(cost)\n",
    "        capped_gradients = [(tf.clip_by_value(grad, -1., 1.), var) for grad, var in gradients if grad is not None]\n",
    "        train_op = optimizer.apply_gradients(capped_gradients)\n"
   ]
  },
  {
   "cell_type": "markdown",
   "metadata": {
    "deletable": true,
    "editable": true
   },
   "source": [
    "Batch and pad the source and target sequences"
   ]
  },
  {
   "cell_type": "code",
   "execution_count": 18,
   "metadata": {
    "collapsed": true,
    "deletable": true,
    "editable": true
   },
   "outputs": [],
   "source": [
    "\"\"\"\n",
    "DON'T MODIFY ANYTHING IN THIS CELL\n",
    "\"\"\"\n",
    "def pad_sentence_batch(sentence_batch, pad_int):\n",
    "    \"\"\"Pad sentences with <PAD> so that each sentence of a batch has the same length\"\"\"\n",
    "    max_sentence = max([len(sentence) for sentence in sentence_batch])\n",
    "    return [sentence + [pad_int] * (max_sentence - len(sentence)) for sentence in sentence_batch]\n",
    "\n",
    "\n",
    "def get_batches(sources, targets, batch_size, source_pad_int, target_pad_int):\n",
    "    \"\"\"Batch targets, sources, and the lengths of their sentences together\"\"\"\n",
    "    for batch_i in range(0, len(sources)//batch_size):\n",
    "        start_i = batch_i * batch_size\n",
    "\n",
    "        # Slice the right amount for the batch\n",
    "        sources_batch = sources[start_i:start_i + batch_size]\n",
    "        targets_batch = targets[start_i:start_i + batch_size]\n",
    "\n",
    "        # Pad\n",
    "        pad_sources_batch = np.array(pad_sentence_batch(sources_batch, source_pad_int))\n",
    "        pad_targets_batch = np.array(pad_sentence_batch(targets_batch, target_pad_int))\n",
    "\n",
    "        # Need the lengths for the _lengths parameters\n",
    "        pad_targets_lengths = []\n",
    "        for target in pad_targets_batch:\n",
    "            pad_targets_lengths.append(len(target))\n",
    "\n",
    "        pad_source_lengths = []\n",
    "        for source in pad_sources_batch:\n",
    "            pad_source_lengths.append(len(source))\n",
    "\n",
    "        yield pad_sources_batch, pad_targets_batch, pad_source_lengths, pad_targets_lengths\n"
   ]
  },
  {
   "cell_type": "markdown",
   "metadata": {
    "deletable": true,
    "editable": true
   },
   "source": [
    "### Train\n",
    "Train the neural network on the preprocessed data. If you have a hard time getting a good loss, check the forms to see if anyone is having the same problem."
   ]
  },
  {
   "cell_type": "code",
   "execution_count": 19,
   "metadata": {
    "collapsed": false,
    "deletable": true,
    "editable": true,
    "scrolled": true
   },
   "outputs": [
    {
     "name": "stdout",
     "output_type": "stream",
     "text": [
      "Epoch   0 Batch   20/538 - Train Accuracy: 0.3618, Validation Accuracy: 0.4078, Loss: 2.8776\n",
      "Epoch   0 Batch   40/538 - Train Accuracy: 0.4856, Validation Accuracy: 0.4794, Loss: 2.3051\n",
      "Epoch   0 Batch   60/538 - Train Accuracy: 0.4186, Validation Accuracy: 0.4830, Loss: 2.2237\n",
      "Epoch   0 Batch   80/538 - Train Accuracy: 0.4381, Validation Accuracy: 0.5034, Loss: 1.9568\n",
      "Epoch   0 Batch  100/538 - Train Accuracy: 0.4455, Validation Accuracy: 0.4911, Loss: 1.6431\n",
      "Epoch   0 Batch  120/538 - Train Accuracy: 0.4434, Validation Accuracy: 0.4964, Loss: 1.4655\n",
      "Epoch   0 Batch  140/538 - Train Accuracy: 0.4723, Validation Accuracy: 0.5275, Loss: 1.4201\n",
      "Epoch   0 Batch  160/538 - Train Accuracy: 0.5026, Validation Accuracy: 0.5201, Loss: 1.1965\n",
      "Epoch   0 Batch  180/538 - Train Accuracy: 0.5073, Validation Accuracy: 0.5133, Loss: 1.1119\n",
      "Epoch   0 Batch  200/538 - Train Accuracy: 0.5332, Validation Accuracy: 0.5575, Loss: 1.0478\n",
      "Epoch   0 Batch  220/538 - Train Accuracy: 0.4823, Validation Accuracy: 0.5373, Loss: 0.9574\n",
      "Epoch   0 Batch  240/538 - Train Accuracy: 0.5207, Validation Accuracy: 0.5563, Loss: 0.9298\n",
      "Epoch   0 Batch  260/538 - Train Accuracy: 0.5335, Validation Accuracy: 0.5669, Loss: 0.8454\n",
      "Epoch   0 Batch  280/538 - Train Accuracy: 0.5962, Validation Accuracy: 0.5762, Loss: 0.7810\n",
      "Epoch   0 Batch  300/538 - Train Accuracy: 0.5718, Validation Accuracy: 0.5724, Loss: 0.7505\n",
      "Epoch   0 Batch  320/538 - Train Accuracy: 0.5926, Validation Accuracy: 0.5820, Loss: 0.7299\n",
      "Epoch   0 Batch  340/538 - Train Accuracy: 0.5693, Validation Accuracy: 0.5877, Loss: 0.7466\n",
      "Epoch   0 Batch  360/538 - Train Accuracy: 0.5926, Validation Accuracy: 0.5936, Loss: 0.7016\n",
      "Epoch   0 Batch  380/538 - Train Accuracy: 0.5787, Validation Accuracy: 0.6016, Loss: 0.6671\n",
      "Epoch   0 Batch  400/538 - Train Accuracy: 0.5928, Validation Accuracy: 0.6030, Loss: 0.6415\n",
      "Epoch   0 Batch  420/538 - Train Accuracy: 0.6104, Validation Accuracy: 0.6129, Loss: 0.6344\n",
      "Epoch   0 Batch  440/538 - Train Accuracy: 0.5900, Validation Accuracy: 0.6140, Loss: 0.6539\n",
      "Epoch   0 Batch  460/538 - Train Accuracy: 0.5921, Validation Accuracy: 0.6234, Loss: 0.5942\n",
      "Epoch   0 Batch  480/538 - Train Accuracy: 0.6347, Validation Accuracy: 0.6259, Loss: 0.5745\n",
      "Epoch   0 Batch  500/538 - Train Accuracy: 0.6335, Validation Accuracy: 0.6387, Loss: 0.5386\n",
      "Epoch   0 Batch  520/538 - Train Accuracy: 0.6156, Validation Accuracy: 0.6470, Loss: 0.5802\n",
      "Epoch   1 Batch   20/538 - Train Accuracy: 0.6371, Validation Accuracy: 0.6344, Loss: 0.5406\n",
      "Epoch   1 Batch   40/538 - Train Accuracy: 0.6788, Validation Accuracy: 0.6582, Loss: 0.4772\n",
      "Epoch   1 Batch   60/538 - Train Accuracy: 0.6443, Validation Accuracy: 0.6495, Loss: 0.5234\n",
      "Epoch   1 Batch   80/538 - Train Accuracy: 0.6518, Validation Accuracy: 0.6388, Loss: 0.5393\n",
      "Epoch   1 Batch  100/538 - Train Accuracy: 0.6607, Validation Accuracy: 0.6436, Loss: 0.4816\n",
      "Epoch   1 Batch  120/538 - Train Accuracy: 0.6680, Validation Accuracy: 0.6566, Loss: 0.4616\n",
      "Epoch   1 Batch  140/538 - Train Accuracy: 0.6561, Validation Accuracy: 0.6657, Loss: 0.4894\n",
      "Epoch   1 Batch  160/538 - Train Accuracy: 0.6661, Validation Accuracy: 0.6726, Loss: 0.4353\n",
      "Epoch   1 Batch  180/538 - Train Accuracy: 0.7184, Validation Accuracy: 0.6751, Loss: 0.4222\n",
      "Epoch   1 Batch  200/538 - Train Accuracy: 0.7057, Validation Accuracy: 0.6926, Loss: 0.4121\n",
      "Epoch   1 Batch  220/538 - Train Accuracy: 0.7115, Validation Accuracy: 0.6889, Loss: 0.3778\n",
      "Epoch   1 Batch  240/538 - Train Accuracy: 0.7043, Validation Accuracy: 0.7102, Loss: 0.3867\n",
      "Epoch   1 Batch  260/538 - Train Accuracy: 0.7063, Validation Accuracy: 0.7099, Loss: 0.3610\n",
      "Epoch   1 Batch  280/538 - Train Accuracy: 0.7567, Validation Accuracy: 0.7170, Loss: 0.3390\n",
      "Epoch   1 Batch  300/538 - Train Accuracy: 0.7502, Validation Accuracy: 0.7347, Loss: 0.3293\n",
      "Epoch   1 Batch  320/538 - Train Accuracy: 0.7539, Validation Accuracy: 0.7582, Loss: 0.3233\n",
      "Epoch   1 Batch  340/538 - Train Accuracy: 0.7600, Validation Accuracy: 0.7425, Loss: 0.3136\n",
      "Epoch   1 Batch  360/538 - Train Accuracy: 0.7486, Validation Accuracy: 0.7598, Loss: 0.2942\n",
      "Epoch   1 Batch  380/538 - Train Accuracy: 0.7920, Validation Accuracy: 0.7763, Loss: 0.2677\n",
      "Epoch   1 Batch  400/538 - Train Accuracy: 0.8084, Validation Accuracy: 0.7843, Loss: 0.2647\n",
      "Epoch   1 Batch  420/538 - Train Accuracy: 0.8324, Validation Accuracy: 0.8066, Loss: 0.2550\n",
      "Epoch   1 Batch  440/538 - Train Accuracy: 0.8314, Validation Accuracy: 0.7942, Loss: 0.2547\n",
      "Epoch   1 Batch  460/538 - Train Accuracy: 0.8278, Validation Accuracy: 0.8153, Loss: 0.2293\n",
      "Epoch   1 Batch  480/538 - Train Accuracy: 0.8575, Validation Accuracy: 0.8139, Loss: 0.2116\n",
      "Epoch   1 Batch  500/538 - Train Accuracy: 0.8700, Validation Accuracy: 0.8340, Loss: 0.1830\n",
      "Epoch   1 Batch  520/538 - Train Accuracy: 0.8307, Validation Accuracy: 0.8366, Loss: 0.2058\n",
      "Epoch   2 Batch   20/538 - Train Accuracy: 0.8661, Validation Accuracy: 0.8578, Loss: 0.1836\n",
      "Epoch   2 Batch   40/538 - Train Accuracy: 0.8764, Validation Accuracy: 0.8471, Loss: 0.1527\n",
      "Epoch   2 Batch   60/538 - Train Accuracy: 0.9037, Validation Accuracy: 0.8608, Loss: 0.1632\n",
      "Epoch   2 Batch   80/538 - Train Accuracy: 0.8576, Validation Accuracy: 0.8532, Loss: 0.1626\n",
      "Epoch   2 Batch  100/538 - Train Accuracy: 0.8793, Validation Accuracy: 0.8684, Loss: 0.1380\n",
      "Epoch   2 Batch  120/538 - Train Accuracy: 0.9021, Validation Accuracy: 0.8849, Loss: 0.1186\n",
      "Epoch   2 Batch  140/538 - Train Accuracy: 0.8850, Validation Accuracy: 0.8888, Loss: 0.1448\n",
      "Epoch   2 Batch  160/538 - Train Accuracy: 0.8791, Validation Accuracy: 0.8876, Loss: 0.1113\n",
      "Epoch   2 Batch  180/538 - Train Accuracy: 0.9005, Validation Accuracy: 0.8897, Loss: 0.1142\n",
      "Epoch   2 Batch  200/538 - Train Accuracy: 0.8945, Validation Accuracy: 0.8857, Loss: 0.1054\n",
      "Epoch   2 Batch  220/538 - Train Accuracy: 0.8806, Validation Accuracy: 0.8958, Loss: 0.0995\n",
      "Epoch   2 Batch  240/538 - Train Accuracy: 0.9002, Validation Accuracy: 0.9016, Loss: 0.1033\n",
      "Epoch   2 Batch  260/538 - Train Accuracy: 0.8744, Validation Accuracy: 0.8924, Loss: 0.1066\n",
      "Epoch   2 Batch  280/538 - Train Accuracy: 0.9163, Validation Accuracy: 0.8849, Loss: 0.0879\n",
      "Epoch   2 Batch  300/538 - Train Accuracy: 0.8837, Validation Accuracy: 0.8968, Loss: 0.0923\n",
      "Epoch   2 Batch  320/538 - Train Accuracy: 0.9085, Validation Accuracy: 0.9018, Loss: 0.0812\n",
      "Epoch   2 Batch  340/538 - Train Accuracy: 0.8811, Validation Accuracy: 0.9006, Loss: 0.0848\n",
      "Epoch   2 Batch  360/538 - Train Accuracy: 0.8957, Validation Accuracy: 0.9022, Loss: 0.0836\n",
      "Epoch   2 Batch  380/538 - Train Accuracy: 0.9193, Validation Accuracy: 0.9151, Loss: 0.0761\n",
      "Epoch   2 Batch  400/538 - Train Accuracy: 0.9016, Validation Accuracy: 0.8919, Loss: 0.0806\n",
      "Epoch   2 Batch  420/538 - Train Accuracy: 0.9316, Validation Accuracy: 0.9121, Loss: 0.0724\n",
      "Epoch   2 Batch  440/538 - Train Accuracy: 0.8949, Validation Accuracy: 0.9048, Loss: 0.0813\n",
      "Epoch   2 Batch  460/538 - Train Accuracy: 0.9092, Validation Accuracy: 0.9141, Loss: 0.0765\n",
      "Epoch   2 Batch  480/538 - Train Accuracy: 0.9278, Validation Accuracy: 0.9160, Loss: 0.0663\n",
      "Epoch   2 Batch  500/538 - Train Accuracy: 0.9432, Validation Accuracy: 0.9151, Loss: 0.0514\n",
      "Epoch   2 Batch  520/538 - Train Accuracy: 0.9041, Validation Accuracy: 0.9128, Loss: 0.0672\n",
      "Epoch   3 Batch   20/538 - Train Accuracy: 0.9213, Validation Accuracy: 0.9158, Loss: 0.0662\n",
      "Epoch   3 Batch   40/538 - Train Accuracy: 0.9334, Validation Accuracy: 0.9197, Loss: 0.0497\n",
      "Epoch   3 Batch   60/538 - Train Accuracy: 0.9355, Validation Accuracy: 0.9318, Loss: 0.0610\n",
      "Epoch   3 Batch   80/538 - Train Accuracy: 0.9260, Validation Accuracy: 0.9270, Loss: 0.0625\n",
      "Epoch   3 Batch  100/538 - Train Accuracy: 0.9324, Validation Accuracy: 0.9279, Loss: 0.0555\n",
      "Epoch   3 Batch  120/538 - Train Accuracy: 0.9348, Validation Accuracy: 0.9228, Loss: 0.0440\n",
      "Epoch   3 Batch  140/538 - Train Accuracy: 0.9141, Validation Accuracy: 0.9272, Loss: 0.0677\n",
      "Epoch   3 Batch  160/538 - Train Accuracy: 0.9148, Validation Accuracy: 0.9276, Loss: 0.0481\n",
      "Epoch   3 Batch  180/538 - Train Accuracy: 0.9425, Validation Accuracy: 0.9197, Loss: 0.0564\n",
      "Epoch   3 Batch  200/538 - Train Accuracy: 0.9418, Validation Accuracy: 0.9258, Loss: 0.0455\n",
      "Epoch   3 Batch  220/538 - Train Accuracy: 0.9165, Validation Accuracy: 0.9238, Loss: 0.0540\n",
      "Epoch   3 Batch  240/538 - Train Accuracy: 0.9309, Validation Accuracy: 0.9226, Loss: 0.0539\n",
      "Epoch   3 Batch  260/538 - Train Accuracy: 0.8975, Validation Accuracy: 0.9345, Loss: 0.0528\n",
      "Epoch   3 Batch  280/538 - Train Accuracy: 0.9412, Validation Accuracy: 0.9276, Loss: 0.0443\n",
      "Epoch   3 Batch  300/538 - Train Accuracy: 0.9174, Validation Accuracy: 0.9414, Loss: 0.0508\n",
      "Epoch   3 Batch  320/538 - Train Accuracy: 0.9466, Validation Accuracy: 0.9466, Loss: 0.0450\n",
      "Epoch   3 Batch  340/538 - Train Accuracy: 0.9377, Validation Accuracy: 0.9352, Loss: 0.0479\n",
      "Epoch   3 Batch  360/538 - Train Accuracy: 0.9350, Validation Accuracy: 0.9508, Loss: 0.0453\n",
      "Epoch   3 Batch  380/538 - Train Accuracy: 0.9531, Validation Accuracy: 0.9416, Loss: 0.0421\n",
      "Epoch   3 Batch  400/538 - Train Accuracy: 0.9325, Validation Accuracy: 0.9444, Loss: 0.0435\n",
      "Epoch   3 Batch  420/538 - Train Accuracy: 0.9475, Validation Accuracy: 0.9371, Loss: 0.0429\n",
      "Epoch   3 Batch  440/538 - Train Accuracy: 0.9332, Validation Accuracy: 0.9409, Loss: 0.0465\n",
      "Epoch   3 Batch  460/538 - Train Accuracy: 0.9273, Validation Accuracy: 0.9432, Loss: 0.0469\n",
      "Epoch   3 Batch  480/538 - Train Accuracy: 0.9587, Validation Accuracy: 0.9384, Loss: 0.0364\n",
      "Epoch   3 Batch  500/538 - Train Accuracy: 0.9572, Validation Accuracy: 0.9299, Loss: 0.0313\n",
      "Epoch   3 Batch  520/538 - Train Accuracy: 0.9428, Validation Accuracy: 0.9377, Loss: 0.0419\n",
      "Epoch   4 Batch   20/538 - Train Accuracy: 0.9488, Validation Accuracy: 0.9519, Loss: 0.0435\n",
      "Epoch   4 Batch   40/538 - Train Accuracy: 0.9446, Validation Accuracy: 0.9338, Loss: 0.0315\n",
      "Epoch   4 Batch   60/538 - Train Accuracy: 0.9453, Validation Accuracy: 0.9464, Loss: 0.0404\n",
      "Epoch   4 Batch   80/538 - Train Accuracy: 0.9324, Validation Accuracy: 0.9249, Loss: 0.0507\n",
      "Epoch   4 Batch  100/538 - Train Accuracy: 0.9578, Validation Accuracy: 0.9371, Loss: 0.0349\n",
      "Epoch   4 Batch  120/538 - Train Accuracy: 0.9605, Validation Accuracy: 0.9450, Loss: 0.0288\n",
      "Epoch   4 Batch  140/538 - Train Accuracy: 0.9420, Validation Accuracy: 0.9382, Loss: 0.0482\n",
      "Epoch   4 Batch  160/538 - Train Accuracy: 0.9381, Validation Accuracy: 0.9469, Loss: 0.0337\n",
      "Epoch   4 Batch  180/538 - Train Accuracy: 0.9501, Validation Accuracy: 0.9581, Loss: 0.0330\n",
      "Epoch   4 Batch  200/538 - Train Accuracy: 0.9543, Validation Accuracy: 0.9528, Loss: 0.0272\n",
      "Epoch   4 Batch  220/538 - Train Accuracy: 0.9301, Validation Accuracy: 0.9503, Loss: 0.0373\n",
      "Epoch   4 Batch  240/538 - Train Accuracy: 0.9500, Validation Accuracy: 0.9448, Loss: 0.0339\n",
      "Epoch   4 Batch  260/538 - Train Accuracy: 0.9353, Validation Accuracy: 0.9521, Loss: 0.0343\n",
      "Epoch   4 Batch  280/538 - Train Accuracy: 0.9656, Validation Accuracy: 0.9522, Loss: 0.0256\n",
      "Epoch   4 Batch  300/538 - Train Accuracy: 0.9369, Validation Accuracy: 0.9588, Loss: 0.0333\n",
      "Epoch   4 Batch  320/538 - Train Accuracy: 0.9648, Validation Accuracy: 0.9650, Loss: 0.0279\n",
      "Epoch   4 Batch  340/538 - Train Accuracy: 0.9502, Validation Accuracy: 0.9549, Loss: 0.0332\n",
      "Epoch   4 Batch  360/538 - Train Accuracy: 0.9586, Validation Accuracy: 0.9529, Loss: 0.0289\n",
      "Epoch   4 Batch  380/538 - Train Accuracy: 0.9598, Validation Accuracy: 0.9666, Loss: 0.0284\n",
      "Epoch   4 Batch  400/538 - Train Accuracy: 0.9706, Validation Accuracy: 0.9521, Loss: 0.0317\n",
      "Epoch   4 Batch  420/538 - Train Accuracy: 0.9613, Validation Accuracy: 0.9570, Loss: 0.0311\n",
      "Epoch   4 Batch  440/538 - Train Accuracy: 0.9502, Validation Accuracy: 0.9622, Loss: 0.0301\n",
      "Epoch   4 Batch  460/538 - Train Accuracy: 0.9541, Validation Accuracy: 0.9680, Loss: 0.0333\n",
      "Epoch   4 Batch  480/538 - Train Accuracy: 0.9751, Validation Accuracy: 0.9535, Loss: 0.0251\n",
      "Epoch   4 Batch  500/538 - Train Accuracy: 0.9773, Validation Accuracy: 0.9638, Loss: 0.0225\n",
      "Epoch   4 Batch  520/538 - Train Accuracy: 0.9604, Validation Accuracy: 0.9553, Loss: 0.0304\n",
      "Epoch   5 Batch   20/538 - Train Accuracy: 0.9775, Validation Accuracy: 0.9544, Loss: 0.0285\n",
      "Epoch   5 Batch   40/538 - Train Accuracy: 0.9624, Validation Accuracy: 0.9590, Loss: 0.0222\n",
      "Epoch   5 Batch   60/538 - Train Accuracy: 0.9514, Validation Accuracy: 0.9453, Loss: 0.0271\n",
      "Epoch   5 Batch   80/538 - Train Accuracy: 0.9686, Validation Accuracy: 0.9700, Loss: 0.0269\n",
      "Epoch   5 Batch  100/538 - Train Accuracy: 0.9602, Validation Accuracy: 0.9695, Loss: 0.0223\n",
      "Epoch   5 Batch  120/538 - Train Accuracy: 0.9670, Validation Accuracy: 0.9640, Loss: 0.0199\n",
      "Epoch   5 Batch  140/538 - Train Accuracy: 0.9592, Validation Accuracy: 0.9492, Loss: 0.0330\n",
      "Epoch   5 Batch  160/538 - Train Accuracy: 0.9613, Validation Accuracy: 0.9586, Loss: 0.0246\n",
      "Epoch   5 Batch  180/538 - Train Accuracy: 0.9695, Validation Accuracy: 0.9622, Loss: 0.0266\n",
      "Epoch   5 Batch  200/538 - Train Accuracy: 0.9719, Validation Accuracy: 0.9579, Loss: 0.0191\n",
      "Epoch   5 Batch  220/538 - Train Accuracy: 0.9394, Validation Accuracy: 0.9650, Loss: 0.0297\n",
      "Epoch   5 Batch  240/538 - Train Accuracy: 0.9631, Validation Accuracy: 0.9721, Loss: 0.0264\n",
      "Epoch   5 Batch  260/538 - Train Accuracy: 0.9379, Validation Accuracy: 0.9522, Loss: 0.0286\n",
      "Epoch   5 Batch  280/538 - Train Accuracy: 0.9734, Validation Accuracy: 0.9592, Loss: 0.0230\n",
      "Epoch   5 Batch  300/538 - Train Accuracy: 0.9660, Validation Accuracy: 0.9540, Loss: 0.0260\n",
      "Epoch   5 Batch  320/538 - Train Accuracy: 0.9708, Validation Accuracy: 0.9686, Loss: 0.0210\n",
      "Epoch   5 Batch  340/538 - Train Accuracy: 0.9586, Validation Accuracy: 0.9599, Loss: 0.0236\n",
      "Epoch   5 Batch  360/538 - Train Accuracy: 0.9777, Validation Accuracy: 0.9622, Loss: 0.0224\n",
      "Epoch   5 Batch  380/538 - Train Accuracy: 0.9752, Validation Accuracy: 0.9689, Loss: 0.0203\n",
      "Epoch   5 Batch  400/538 - Train Accuracy: 0.9727, Validation Accuracy: 0.9632, Loss: 0.0232\n",
      "Epoch   5 Batch  420/538 - Train Accuracy: 0.9730, Validation Accuracy: 0.9664, Loss: 0.0249\n",
      "Epoch   5 Batch  440/538 - Train Accuracy: 0.9617, Validation Accuracy: 0.9673, Loss: 0.0269\n",
      "Epoch   5 Batch  460/538 - Train Accuracy: 0.9537, Validation Accuracy: 0.9801, Loss: 0.0252\n",
      "Epoch   5 Batch  480/538 - Train Accuracy: 0.9745, Validation Accuracy: 0.9620, Loss: 0.0223\n",
      "Epoch   5 Batch  500/538 - Train Accuracy: 0.9851, Validation Accuracy: 0.9632, Loss: 0.0176\n",
      "Epoch   5 Batch  520/538 - Train Accuracy: 0.9775, Validation Accuracy: 0.9695, Loss: 0.0256\n",
      "Epoch   6 Batch   20/538 - Train Accuracy: 0.9730, Validation Accuracy: 0.9675, Loss: 0.0234\n",
      "Epoch   6 Batch   40/538 - Train Accuracy: 0.9688, Validation Accuracy: 0.9604, Loss: 0.0169\n",
      "Epoch   6 Batch   60/538 - Train Accuracy: 0.9697, Validation Accuracy: 0.9634, Loss: 0.0215\n",
      "Epoch   6 Batch   80/538 - Train Accuracy: 0.9680, Validation Accuracy: 0.9693, Loss: 0.0197\n",
      "Epoch   6 Batch  100/538 - Train Accuracy: 0.9709, Validation Accuracy: 0.9732, Loss: 0.0183\n",
      "Epoch   6 Batch  120/538 - Train Accuracy: 0.9723, Validation Accuracy: 0.9709, Loss: 0.0164\n",
      "Epoch   6 Batch  140/538 - Train Accuracy: 0.9627, Validation Accuracy: 0.9606, Loss: 0.0245\n",
      "Epoch   6 Batch  160/538 - Train Accuracy: 0.9654, Validation Accuracy: 0.9627, Loss: 0.0194\n",
      "Epoch   6 Batch  180/538 - Train Accuracy: 0.9741, Validation Accuracy: 0.9670, Loss: 0.0194\n",
      "Epoch   6 Batch  200/538 - Train Accuracy: 0.9809, Validation Accuracy: 0.9593, Loss: 0.0152\n",
      "Epoch   6 Batch  220/538 - Train Accuracy: 0.9548, Validation Accuracy: 0.9611, Loss: 0.0215\n",
      "Epoch   6 Batch  240/538 - Train Accuracy: 0.9723, Validation Accuracy: 0.9600, Loss: 0.0195\n",
      "Epoch   6 Batch  260/538 - Train Accuracy: 0.9505, Validation Accuracy: 0.9593, Loss: 0.0229\n",
      "Epoch   6 Batch  280/538 - Train Accuracy: 0.9823, Validation Accuracy: 0.9643, Loss: 0.0156\n",
      "Epoch   6 Batch  300/538 - Train Accuracy: 0.9671, Validation Accuracy: 0.9608, Loss: 0.0193\n",
      "Epoch   6 Batch  320/538 - Train Accuracy: 0.9881, Validation Accuracy: 0.9663, Loss: 0.0181\n",
      "Epoch   6 Batch  340/538 - Train Accuracy: 0.9775, Validation Accuracy: 0.9689, Loss: 0.0178\n",
      "Epoch   6 Batch  360/538 - Train Accuracy: 0.9820, Validation Accuracy: 0.9686, Loss: 0.0167\n",
      "Epoch   6 Batch  380/538 - Train Accuracy: 0.9770, Validation Accuracy: 0.9656, Loss: 0.0161\n",
      "Epoch   6 Batch  400/538 - Train Accuracy: 0.9812, Validation Accuracy: 0.9746, Loss: 0.0186\n",
      "Epoch   6 Batch  420/538 - Train Accuracy: 0.9725, Validation Accuracy: 0.9673, Loss: 0.0191\n",
      "Epoch   6 Batch  440/538 - Train Accuracy: 0.9740, Validation Accuracy: 0.9659, Loss: 0.0186\n",
      "Epoch   6 Batch  460/538 - Train Accuracy: 0.9740, Validation Accuracy: 0.9794, Loss: 0.0204\n",
      "Epoch   6 Batch  480/538 - Train Accuracy: 0.9777, Validation Accuracy: 0.9611, Loss: 0.0164\n",
      "Epoch   6 Batch  500/538 - Train Accuracy: 0.9806, Validation Accuracy: 0.9695, Loss: 0.0135\n",
      "Epoch   6 Batch  520/538 - Train Accuracy: 0.9723, Validation Accuracy: 0.9718, Loss: 0.0218\n",
      "Epoch   7 Batch   20/538 - Train Accuracy: 0.9758, Validation Accuracy: 0.9638, Loss: 0.0196\n",
      "Epoch   7 Batch   40/538 - Train Accuracy: 0.9686, Validation Accuracy: 0.9535, Loss: 0.0139\n",
      "Epoch   7 Batch   60/538 - Train Accuracy: 0.9719, Validation Accuracy: 0.9641, Loss: 0.0195\n",
      "Epoch   7 Batch   80/538 - Train Accuracy: 0.9719, Validation Accuracy: 0.9776, Loss: 0.0164\n",
      "Epoch   7 Batch  100/538 - Train Accuracy: 0.9836, Validation Accuracy: 0.9748, Loss: 0.0152\n",
      "Epoch   7 Batch  120/538 - Train Accuracy: 0.9777, Validation Accuracy: 0.9700, Loss: 0.0133\n",
      "Epoch   7 Batch  140/538 - Train Accuracy: 0.9783, Validation Accuracy: 0.9604, Loss: 0.0201\n",
      "Epoch   7 Batch  160/538 - Train Accuracy: 0.9788, Validation Accuracy: 0.9684, Loss: 0.0159\n",
      "Epoch   7 Batch  180/538 - Train Accuracy: 0.9766, Validation Accuracy: 0.9627, Loss: 0.0138\n",
      "Epoch   7 Batch  200/538 - Train Accuracy: 0.9787, Validation Accuracy: 0.9638, Loss: 0.0130\n",
      "Epoch   7 Batch  220/538 - Train Accuracy: 0.9645, Validation Accuracy: 0.9634, Loss: 0.0196\n",
      "Epoch   7 Batch  240/538 - Train Accuracy: 0.9693, Validation Accuracy: 0.9664, Loss: 0.0164\n",
      "Epoch   7 Batch  260/538 - Train Accuracy: 0.9626, Validation Accuracy: 0.9689, Loss: 0.0183\n",
      "Epoch   7 Batch  280/538 - Train Accuracy: 0.9847, Validation Accuracy: 0.9712, Loss: 0.0115\n",
      "Epoch   7 Batch  300/538 - Train Accuracy: 0.9795, Validation Accuracy: 0.9703, Loss: 0.0153\n",
      "Epoch   7 Batch  320/538 - Train Accuracy: 0.9820, Validation Accuracy: 0.9831, Loss: 0.0118\n",
      "Epoch   7 Batch  340/538 - Train Accuracy: 0.9850, Validation Accuracy: 0.9695, Loss: 0.0148\n",
      "Epoch   7 Batch  360/538 - Train Accuracy: 0.9805, Validation Accuracy: 0.9689, Loss: 0.0134\n",
      "Epoch   7 Batch  380/538 - Train Accuracy: 0.9801, Validation Accuracy: 0.9643, Loss: 0.0138\n",
      "Epoch   7 Batch  400/538 - Train Accuracy: 0.9786, Validation Accuracy: 0.9748, Loss: 0.0145\n",
      "Epoch   7 Batch  420/538 - Train Accuracy: 0.9760, Validation Accuracy: 0.9640, Loss: 0.0178\n",
      "Epoch   7 Batch  440/538 - Train Accuracy: 0.9754, Validation Accuracy: 0.9730, Loss: 0.0164\n",
      "Epoch   7 Batch  460/538 - Train Accuracy: 0.9728, Validation Accuracy: 0.9776, Loss: 0.0177\n",
      "Epoch   7 Batch  480/538 - Train Accuracy: 0.9857, Validation Accuracy: 0.9698, Loss: 0.0138\n",
      "Epoch   7 Batch  500/538 - Train Accuracy: 0.9810, Validation Accuracy: 0.9702, Loss: 0.0116\n",
      "Epoch   7 Batch  520/538 - Train Accuracy: 0.9721, Validation Accuracy: 0.9698, Loss: 0.0182\n",
      "Epoch   8 Batch   20/538 - Train Accuracy: 0.9730, Validation Accuracy: 0.9716, Loss: 0.0165\n",
      "Epoch   8 Batch   40/538 - Train Accuracy: 0.9734, Validation Accuracy: 0.9663, Loss: 0.0128\n",
      "Epoch   8 Batch   60/538 - Train Accuracy: 0.9707, Validation Accuracy: 0.9652, Loss: 0.0200\n",
      "Epoch   8 Batch   80/538 - Train Accuracy: 0.9742, Validation Accuracy: 0.9764, Loss: 0.0140\n",
      "Epoch   8 Batch  100/538 - Train Accuracy: 0.9820, Validation Accuracy: 0.9716, Loss: 0.0136\n",
      "Epoch   8 Batch  120/538 - Train Accuracy: 0.9883, Validation Accuracy: 0.9677, Loss: 0.0130\n",
      "Epoch   8 Batch  140/538 - Train Accuracy: 0.9795, Validation Accuracy: 0.9705, Loss: 0.0181\n",
      "Epoch   8 Batch  160/538 - Train Accuracy: 0.9816, Validation Accuracy: 0.9664, Loss: 0.0136\n",
      "Epoch   8 Batch  180/538 - Train Accuracy: 0.9758, Validation Accuracy: 0.9650, Loss: 0.0134\n",
      "Epoch   8 Batch  200/538 - Train Accuracy: 0.9812, Validation Accuracy: 0.9657, Loss: 0.0108\n",
      "Epoch   8 Batch  220/538 - Train Accuracy: 0.9771, Validation Accuracy: 0.9590, Loss: 0.0148\n",
      "Epoch   8 Batch  240/538 - Train Accuracy: 0.9656, Validation Accuracy: 0.9652, Loss: 0.0147\n",
      "Epoch   8 Batch  260/538 - Train Accuracy: 0.9621, Validation Accuracy: 0.9673, Loss: 0.0172\n",
      "Epoch   8 Batch  280/538 - Train Accuracy: 0.9829, Validation Accuracy: 0.9721, Loss: 0.0119\n",
      "Epoch   8 Batch  300/538 - Train Accuracy: 0.9684, Validation Accuracy: 0.9728, Loss: 0.0140\n",
      "Epoch   8 Batch  320/538 - Train Accuracy: 0.9875, Validation Accuracy: 0.9712, Loss: 0.0102\n",
      "Epoch   8 Batch  340/538 - Train Accuracy: 0.9861, Validation Accuracy: 0.9684, Loss: 0.0101\n",
      "Epoch   8 Batch  360/538 - Train Accuracy: 0.9855, Validation Accuracy: 0.9705, Loss: 0.0100\n",
      "Epoch   8 Batch  380/538 - Train Accuracy: 0.9850, Validation Accuracy: 0.9688, Loss: 0.0107\n",
      "Epoch   8 Batch  400/538 - Train Accuracy: 0.9805, Validation Accuracy: 0.9702, Loss: 0.0144\n",
      "Epoch   8 Batch  420/538 - Train Accuracy: 0.9766, Validation Accuracy: 0.9712, Loss: 0.0157\n",
      "Epoch   8 Batch  440/538 - Train Accuracy: 0.9816, Validation Accuracy: 0.9732, Loss: 0.0126\n",
      "Epoch   8 Batch  460/538 - Train Accuracy: 0.9823, Validation Accuracy: 0.9751, Loss: 0.0157\n",
      "Epoch   8 Batch  480/538 - Train Accuracy: 0.9860, Validation Accuracy: 0.9728, Loss: 0.0123\n",
      "Epoch   8 Batch  500/538 - Train Accuracy: 0.9860, Validation Accuracy: 0.9670, Loss: 0.0101\n",
      "Epoch   8 Batch  520/538 - Train Accuracy: 0.9850, Validation Accuracy: 0.9650, Loss: 0.0159\n",
      "Epoch   9 Batch   20/538 - Train Accuracy: 0.9777, Validation Accuracy: 0.9661, Loss: 0.0158\n",
      "Epoch   9 Batch   40/538 - Train Accuracy: 0.9812, Validation Accuracy: 0.9702, Loss: 0.0119\n",
      "Epoch   9 Batch   60/538 - Train Accuracy: 0.9771, Validation Accuracy: 0.9739, Loss: 0.0141\n",
      "Epoch   9 Batch   80/538 - Train Accuracy: 0.9816, Validation Accuracy: 0.9705, Loss: 0.0102\n",
      "Epoch   9 Batch  100/538 - Train Accuracy: 0.9881, Validation Accuracy: 0.9759, Loss: 0.0103\n",
      "Epoch   9 Batch  120/538 - Train Accuracy: 0.9902, Validation Accuracy: 0.9709, Loss: 0.0129\n",
      "Epoch   9 Batch  140/538 - Train Accuracy: 0.9721, Validation Accuracy: 0.9663, Loss: 0.0152\n",
      "Epoch   9 Batch  160/538 - Train Accuracy: 0.9795, Validation Accuracy: 0.9739, Loss: 0.0125\n",
      "Epoch   9 Batch  180/538 - Train Accuracy: 0.9754, Validation Accuracy: 0.9810, Loss: 0.0103\n",
      "Epoch   9 Batch  200/538 - Train Accuracy: 0.9879, Validation Accuracy: 0.9599, Loss: 0.0097\n",
      "Epoch   9 Batch  220/538 - Train Accuracy: 0.9779, Validation Accuracy: 0.9661, Loss: 0.0128\n",
      "Epoch   9 Batch  240/538 - Train Accuracy: 0.9758, Validation Accuracy: 0.9695, Loss: 0.0123\n",
      "Epoch   9 Batch  260/538 - Train Accuracy: 0.9669, Validation Accuracy: 0.9629, Loss: 0.0150\n",
      "Epoch   9 Batch  280/538 - Train Accuracy: 0.9853, Validation Accuracy: 0.9721, Loss: 0.0110\n",
      "Epoch   9 Batch  300/538 - Train Accuracy: 0.9868, Validation Accuracy: 0.9821, Loss: 0.0116\n",
      "Epoch   9 Batch  320/538 - Train Accuracy: 0.9820, Validation Accuracy: 0.9716, Loss: 0.0108\n",
      "Epoch   9 Batch  340/538 - Train Accuracy: 0.9838, Validation Accuracy: 0.9700, Loss: 0.0125\n",
      "Epoch   9 Batch  360/538 - Train Accuracy: 0.9898, Validation Accuracy: 0.9668, Loss: 0.0097\n",
      "Epoch   9 Batch  380/538 - Train Accuracy: 0.9861, Validation Accuracy: 0.9677, Loss: 0.0121\n",
      "Epoch   9 Batch  400/538 - Train Accuracy: 0.9907, Validation Accuracy: 0.9725, Loss: 0.0117\n",
      "Epoch   9 Batch  420/538 - Train Accuracy: 0.9838, Validation Accuracy: 0.9622, Loss: 0.0121\n",
      "Epoch   9 Batch  440/538 - Train Accuracy: 0.9857, Validation Accuracy: 0.9734, Loss: 0.0122\n",
      "Epoch   9 Batch  460/538 - Train Accuracy: 0.9864, Validation Accuracy: 0.9762, Loss: 0.0134\n",
      "Epoch   9 Batch  480/538 - Train Accuracy: 0.9831, Validation Accuracy: 0.9650, Loss: 0.0107\n",
      "Epoch   9 Batch  500/538 - Train Accuracy: 0.9922, Validation Accuracy: 0.9771, Loss: 0.0086\n",
      "Epoch   9 Batch  520/538 - Train Accuracy: 0.9771, Validation Accuracy: 0.9686, Loss: 0.0162\n",
      "Model Trained and Saved\n"
     ]
    }
   ],
   "source": [
    "\"\"\"\n",
    "DON'T MODIFY ANYTHING IN THIS CELL\n",
    "\"\"\"\n",
    "def get_accuracy(target, logits):\n",
    "    \"\"\"\n",
    "    Calculate accuracy\n",
    "    \"\"\"\n",
    "    max_seq = max(target.shape[1], logits.shape[1])\n",
    "    if max_seq - target.shape[1]:\n",
    "        target = np.pad(\n",
    "            target,\n",
    "            [(0,0),(0,max_seq - target.shape[1])],\n",
    "            'constant')\n",
    "    if max_seq - logits.shape[1]:\n",
    "        logits = np.pad(\n",
    "            logits,\n",
    "            [(0,0),(0,max_seq - logits.shape[1])],\n",
    "            'constant')\n",
    "\n",
    "    return np.mean(np.equal(target, logits))\n",
    "\n",
    "# Split data to training and validation sets\n",
    "train_source = source_int_text[batch_size:]\n",
    "train_target = target_int_text[batch_size:]\n",
    "valid_source = source_int_text[:batch_size]\n",
    "valid_target = target_int_text[:batch_size]\n",
    "(valid_sources_batch, valid_targets_batch, valid_sources_lengths, valid_targets_lengths ) = next(get_batches(valid_source,\n",
    "                                                                                                             valid_target,\n",
    "                                                                                                             batch_size,\n",
    "                                                                                                             source_vocab_to_int['<PAD>'],\n",
    "                                                                                                             target_vocab_to_int['<PAD>']))                                                                                                  \n",
    "with tf.Session(graph=train_graph) as sess:\n",
    "    sess.run(tf.global_variables_initializer())\n",
    "\n",
    "    for epoch_i in range(epochs):\n",
    "        for batch_i, (source_batch, target_batch, sources_lengths, targets_lengths) in enumerate(\n",
    "                get_batches(train_source, train_target, batch_size,\n",
    "                            source_vocab_to_int['<PAD>'],\n",
    "                            target_vocab_to_int['<PAD>'])):\n",
    "\n",
    "            _, loss = sess.run(\n",
    "                [train_op, cost],\n",
    "                {input_data: source_batch,\n",
    "                 targets: target_batch,\n",
    "                 lr: learning_rate,\n",
    "                 target_sequence_length: targets_lengths,\n",
    "                 source_sequence_length: sources_lengths,\n",
    "                 keep_prob: keep_probability})\n",
    "\n",
    "\n",
    "            if batch_i % display_step == 0 and batch_i > 0:\n",
    "\n",
    "\n",
    "                batch_train_logits = sess.run(\n",
    "                    inference_logits,\n",
    "                    {input_data: source_batch,\n",
    "                     source_sequence_length: sources_lengths,\n",
    "                     target_sequence_length: targets_lengths,\n",
    "                     keep_prob: 1.0})\n",
    "\n",
    "\n",
    "                batch_valid_logits = sess.run(\n",
    "                    inference_logits,\n",
    "                    {input_data: valid_sources_batch,\n",
    "                     source_sequence_length: valid_sources_lengths,\n",
    "                     target_sequence_length: valid_targets_lengths,\n",
    "                     keep_prob: 1.0})\n",
    "\n",
    "                train_acc = get_accuracy(target_batch, batch_train_logits)\n",
    "\n",
    "                valid_acc = get_accuracy(valid_targets_batch, batch_valid_logits)\n",
    "\n",
    "                print('Epoch {:>3} Batch {:>4}/{} - Train Accuracy: {:>6.4f}, Validation Accuracy: {:>6.4f}, Loss: {:>6.4f}'\n",
    "                      .format(epoch_i, batch_i, len(source_int_text) // batch_size, train_acc, valid_acc, loss))\n",
    "\n",
    "    # Save Model\n",
    "    saver = tf.train.Saver()\n",
    "    saver.save(sess, save_path)\n",
    "    print('Model Trained and Saved')"
   ]
  },
  {
   "cell_type": "markdown",
   "metadata": {
    "deletable": true,
    "editable": true
   },
   "source": [
    "### Save Parameters\n",
    "Save the `batch_size` and `save_path` parameters for inference."
   ]
  },
  {
   "cell_type": "code",
   "execution_count": 20,
   "metadata": {
    "collapsed": true,
    "deletable": true,
    "editable": true
   },
   "outputs": [],
   "source": [
    "\"\"\"\n",
    "DON'T MODIFY ANYTHING IN THIS CELL\n",
    "\"\"\"\n",
    "# Save parameters for checkpoint\n",
    "helper.save_params(save_path)"
   ]
  },
  {
   "cell_type": "markdown",
   "metadata": {
    "deletable": true,
    "editable": true
   },
   "source": [
    "# Checkpoint"
   ]
  },
  {
   "cell_type": "code",
   "execution_count": 21,
   "metadata": {
    "collapsed": true,
    "deletable": true,
    "editable": true
   },
   "outputs": [],
   "source": [
    "\"\"\"\n",
    "DON'T MODIFY ANYTHING IN THIS CELL\n",
    "\"\"\"\n",
    "import tensorflow as tf\n",
    "import numpy as np\n",
    "import helper\n",
    "import problem_unittests as tests\n",
    "\n",
    "_, (source_vocab_to_int, target_vocab_to_int), (source_int_to_vocab, target_int_to_vocab) = helper.load_preprocess()\n",
    "load_path = helper.load_params()"
   ]
  },
  {
   "cell_type": "markdown",
   "metadata": {
    "deletable": true,
    "editable": true
   },
   "source": [
    "## Sentence to Sequence\n",
    "To feed a sentence into the model for translation, you first need to preprocess it.  Implement the function `sentence_to_seq()` to preprocess new sentences.\n",
    "\n",
    "- Convert the sentence to lowercase\n",
    "- Convert words into ids using `vocab_to_int`\n",
    " - Convert words not in the vocabulary, to the `<UNK>` word id."
   ]
  },
  {
   "cell_type": "code",
   "execution_count": 24,
   "metadata": {
    "collapsed": false,
    "deletable": true,
    "editable": true
   },
   "outputs": [
    {
     "name": "stdout",
     "output_type": "stream",
     "text": [
      "Tests Passed\n"
     ]
    }
   ],
   "source": [
    "def sentence_to_seq(sentence, vocab_to_int):\n",
    "    \"\"\"\n",
    "    Convert a sentence to a sequence of ids\n",
    "    :param sentence: String\n",
    "    :param vocab_to_int: Dictionary to go from the words to an id\n",
    "    :return: List of word ids\n",
    "    \"\"\"\n",
    "    # TODO: Implement Function\n",
    "    list_of_idx = []\n",
    "    for word in sentence.split(\" \"):\n",
    "        \n",
    "        word = word.lower()\n",
    "        if word not in vocab_to_int:\n",
    "            list_of_idx.append(vocab_to_int[\"<UNK>\"])\n",
    "        else:\n",
    "            list_of_idx.append(vocab_to_int[word])\n",
    "            \n",
    "    return list_of_idx\n",
    "\n",
    "\n",
    "\"\"\"\n",
    "DON'T MODIFY ANYTHING IN THIS CELL THAT IS BELOW THIS LINE\n",
    "\"\"\"\n",
    "tests.test_sentence_to_seq(sentence_to_seq)"
   ]
  },
  {
   "cell_type": "markdown",
   "metadata": {
    "deletable": true,
    "editable": true
   },
   "source": [
    "## Translate\n",
    "This will translate `translate_sentence` from English to French."
   ]
  },
  {
   "cell_type": "code",
   "execution_count": 25,
   "metadata": {
    "collapsed": false,
    "deletable": true,
    "editable": true
   },
   "outputs": [
    {
     "name": "stdout",
     "output_type": "stream",
     "text": [
      "INFO:tensorflow:Restoring parameters from checkpoints/dev\n",
      "Input\n",
      "  Word Ids:      [104, 183, 98, 108, 138, 110, 87]\n",
      "  English Words: ['he', 'saw', 'a', 'old', 'yellow', 'truck', '.']\n",
      "\n",
      "Prediction\n",
      "  Word Ids:      [63, 307, 125, 180, 340, 94, 292, 134, 1]\n",
      "  French Words: il a vu un vieux camion noir . <EOS>\n"
     ]
    }
   ],
   "source": [
    "translate_sentence = 'he saw a old yellow truck .'\n",
    "\n",
    "\n",
    "\"\"\"\n",
    "DON'T MODIFY ANYTHING IN THIS CELL\n",
    "\"\"\"\n",
    "translate_sentence = sentence_to_seq(translate_sentence, source_vocab_to_int)\n",
    "\n",
    "loaded_graph = tf.Graph()\n",
    "with tf.Session(graph=loaded_graph) as sess:\n",
    "    # Load saved model\n",
    "    loader = tf.train.import_meta_graph(load_path + '.meta')\n",
    "    loader.restore(sess, load_path)\n",
    "\n",
    "    input_data = loaded_graph.get_tensor_by_name('input:0')\n",
    "    logits = loaded_graph.get_tensor_by_name('predictions:0')\n",
    "    target_sequence_length = loaded_graph.get_tensor_by_name('target_sequence_length:0')\n",
    "    source_sequence_length = loaded_graph.get_tensor_by_name('source_sequence_length:0')\n",
    "    keep_prob = loaded_graph.get_tensor_by_name('keep_prob:0')\n",
    "\n",
    "    translate_logits = sess.run(logits, {input_data: [translate_sentence]*batch_size,\n",
    "                                         target_sequence_length: [len(translate_sentence)*2]*batch_size,\n",
    "                                         source_sequence_length: [len(translate_sentence)]*batch_size,\n",
    "                                         keep_prob: 1.0})[0]\n",
    "\n",
    "print('Input')\n",
    "print('  Word Ids:      {}'.format([i for i in translate_sentence]))\n",
    "print('  English Words: {}'.format([source_int_to_vocab[i] for i in translate_sentence]))\n",
    "\n",
    "print('\\nPrediction')\n",
    "print('  Word Ids:      {}'.format([i for i in translate_logits]))\n",
    "print('  French Words: {}'.format(\" \".join([target_int_to_vocab[i] for i in translate_logits])))\n"
   ]
  },
  {
   "cell_type": "markdown",
   "metadata": {
    "deletable": true,
    "editable": true
   },
   "source": [
    "## Imperfect Translation\n",
    "You might notice that some sentences translate better than others.  Since the dataset you're using only has a vocabulary of 227 English words of the thousands that you use, you're only going to see good results using these words.  For this project, you don't need a perfect translation. However, if you want to create a better translation model, you'll need better data.\n",
    "\n",
    "You can train on the [WMT10 French-English corpus](http://www.statmt.org/wmt10/training-giga-fren.tar).  This dataset has more vocabulary and richer in topics discussed.  However, this will take you days to train, so make sure you've a GPU and the neural network is performing well on dataset we provided.  Just make sure you play with the WMT10 corpus after you've submitted this project.\n",
    "## Submitting This Project\n",
    "When submitting this project, make sure to run all the cells before saving the notebook. Save the notebook file as \"dlnd_language_translation.ipynb\" and save it as a HTML file under \"File\" -> \"Download as\". Include the \"helper.py\" and \"problem_unittests.py\" files in your submission."
   ]
  }
 ],
 "metadata": {
  "anaconda-cloud": {},
  "kernelspec": {
   "display_name": "Python 3",
   "language": "python",
   "name": "python3"
  },
  "language_info": {
   "codemirror_mode": {
    "name": "ipython",
    "version": 3
   },
   "file_extension": ".py",
   "mimetype": "text/x-python",
   "name": "python",
   "nbconvert_exporter": "python",
   "pygments_lexer": "ipython3",
   "version": "3.5.2"
  },
  "widgets": {
   "state": {},
   "version": "1.1.2"
  }
 },
 "nbformat": 4,
 "nbformat_minor": 1
}
